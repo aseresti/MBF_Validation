{
 "cells": [
  {
   "cell_type": "code",
   "execution_count": 19,
   "metadata": {},
   "outputs": [],
   "source": [
    "import vtk\n",
    "import numpy as np\n",
    "\n",
    "mbfvolume_path = \"/Users/ana/Documents/AnahitaSeresti/03_MBFValidation/07.Test/MBF_Territories.vtu\"\n",
    "mbf_path = \"/Users/ana/Documents/AnahitaSeresti/03_MBFValidation/07.Test/MBF.vtk\"\n",
    "from utilities import ReadVTUFile, ReadVTKFile, WriteVTUFile"
   ]
  },
  {
   "cell_type": "code",
   "execution_count": 11,
   "metadata": {},
   "outputs": [],
   "source": [
    "MBF_volume = ReadVTUFile(mbfvolume_path)\n",
    "MBF = ReadVTKFile(mbf_path)"
   ]
  },
  {
   "cell_type": "code",
   "execution_count": 12,
   "metadata": {},
   "outputs": [
    {
     "name": "stdout",
     "output_type": "stream",
     "text": [
      "['ALL_PIECES_EXTENT', 'AddObserver', 'AllocateCellGhostArray', 'AllocatePointGhostArray', 'AllocateScalars', 'AttributeTypes', 'BOUNDING_BOX', 'BreakOnError', 'CELL', 'CELL_DATA_FIELD', 'CELL_DATA_VECTOR', 'CheckAttributes', 'ComputeBounds', 'ComputeCellId', 'ComputeIndexToPhysicalMatrix', 'ComputeInternalExtent', 'ComputePointId', 'ComputeStructuredCoordinates', 'CopyAndCastFrom', 'CopyAttributes', 'CopyInformationFromPipeline', 'CopyInformationToPipeline', 'CopyStructure', 'Crop', 'DATA_EXTENT', 'DATA_EXTENT_TYPE', 'DATA_NUMBER_OF_GHOST_LEVELS', 'DATA_NUMBER_OF_PIECES', 'DATA_OBJECT', 'DATA_OBJECT_FIELD', 'DATA_PIECE_NUMBER', 'DATA_TIME_STEP', 'DATA_TYPE_NAME', 'DIRECTION', 'DataHasBeenGenerated', 'DebugOff', 'DebugOn', 'DeepCopy', 'EDGE', 'EDGE_DATA_VECTOR', 'ExtendedNew', 'FIELD', 'FIELD_ACTIVE_ATTRIBUTE', 'FIELD_ARRAY_TYPE', 'FIELD_ASSOCIATION', 'FIELD_ASSOCIATION_CELLS', 'FIELD_ASSOCIATION_EDGES', 'FIELD_ASSOCIATION_NONE', 'FIELD_ASSOCIATION_POINTS', 'FIELD_ASSOCIATION_POINTS_THEN_CELLS', 'FIELD_ASSOCIATION_ROWS', 'FIELD_ASSOCIATION_VERTICES', 'FIELD_ATTRIBUTE_TYPE', 'FIELD_NAME', 'FIELD_NUMBER_OF_COMPONENTS', 'FIELD_NUMBER_OF_TUPLES', 'FIELD_OPERATION', 'FIELD_OPERATION_MODIFIED', 'FIELD_OPERATION_PRESERVED', 'FIELD_OPERATION_REINTERPOLATED', 'FIELD_OPERATION_REMOVED', 'FIELD_RANGE', 'FastDelete', 'FieldAssociations', 'FieldDataType', 'FieldOperations', 'FindAndGetCell', 'FindCell', 'FindPoint', 'GenerateGhostArray', 'GetActiveFieldInformation', 'GetActualMemorySize', 'GetAddressAsString', 'GetArrayIncrements', 'GetArrayPointer', 'GetArrayPointerForExtent', 'GetAssociationTypeAsString', 'GetAssociationTypeFromString', 'GetAttributeTypeForArray', 'GetAttributes', 'GetAttributesAsFieldData', 'GetAxisUpdateExtent', 'GetBounds', 'GetCell', 'GetCellBounds', 'GetCellData', 'GetCellDims', 'GetCellGhostArray', 'GetCellNeighbors', 'GetCellPoints', 'GetCellSize', 'GetCellType', 'GetCellTypes', 'GetCenter', 'GetClassName', 'GetCommand', 'GetContinuousIncrements', 'GetData', 'GetDataDimension', 'GetDataObjectType', 'GetDataReleased', 'GetDebug', 'GetDimensions', 'GetDirectionMatrix', 'GetExtent', 'GetExtentType', 'GetFieldData', 'GetGhostArray', 'GetGlobalReleaseDataFlag', 'GetGlobalWarningDisplay', 'GetIncrements', 'GetIndexToPhysicalMatrix', 'GetInformation', 'GetIsInMemkind', 'GetLength', 'GetLength2', 'GetMTime', 'GetMaxCellSize', 'GetNamedFieldInformation', 'GetNumberOfCells', 'GetNumberOfElements', 'GetNumberOfGenerationsFromBase', 'GetNumberOfGenerationsFromBaseType', 'GetNumberOfPoints', 'GetNumberOfScalarComponents', 'GetObjectDescription', 'GetObjectName', 'GetOrigin', 'GetPhysicalToIndexMatrix', 'GetPoint', 'GetPointCells', 'GetPointData', 'GetPointGhostArray', 'GetPointGradient', 'GetReferenceCount', 'GetScalarComponentAsDouble', 'GetScalarComponentAsFloat', 'GetScalarIndex', 'GetScalarIndexForExtent', 'GetScalarPointer', 'GetScalarPointerForExtent', 'GetScalarRange', 'GetScalarSize', 'GetScalarType', 'GetScalarTypeAsString', 'GetScalarTypeMax', 'GetScalarTypeMin', 'GetSpacing', 'GetTupleIndex', 'GetUpdateTime', 'GetUsingMemkind', 'GetVoxelGradient', 'GlobalReleaseDataFlagOff', 'GlobalReleaseDataFlagOn', 'GlobalWarningDisplayOff', 'GlobalWarningDisplayOn', 'HasAnyBlankCells', 'HasAnyBlankPoints', 'HasAnyGhostCells', 'HasAnyGhostPoints', 'HasNumberOfScalarComponents', 'HasObserver', 'HasScalarType', 'Initialize', 'InitializeObjectBase', 'InvokeEvent', 'IsA', 'IsCellVisible', 'IsPointVisible', 'IsTypeOf', 'Modified', 'NUMBER_OF_ASSOCIATIONS', 'NUMBER_OF_ATTRIBUTE_TYPES', 'NewCellIterator', 'NewInstance', 'ORIGIN', 'PIECE_EXTENT', 'POINT', 'POINT_DATA_FIELD', 'POINT_DATA_VECTOR', 'POINT_THEN_CELL', 'PrepareForNewData', 'ROW', 'Register', 'ReleaseData', 'RemoveAllObservers', 'RemoveNamedFieldInformation', 'RemoveObserver', 'RemoveObservers', 'SIL', 'SPACING', 'SafeDownCast', 'SetActiveAttribute', 'SetActiveAttributeInfo', 'SetAxisUpdateExtent', 'SetCellOrderAndRationalWeights', 'SetDebug', 'SetDimensions', 'SetDirectionMatrix', 'SetExtent', 'SetFieldData', 'SetGlobalReleaseDataFlag', 'SetGlobalWarningDisplay', 'SetInformation', 'SetMemkindDirectory', 'SetNumberOfScalarComponents', 'SetObjectName', 'SetOrigin', 'SetPointDataActiveScalarInfo', 'SetReferenceCount', 'SetScalarComponentFromDouble', 'SetScalarComponentFromFloat', 'SetScalarType', 'SetSpacing', 'ShallowCopy', 'Squeeze', 'TransformContinuousIndexToPhysicalPoint', 'TransformIndexToPhysicalPoint', 'TransformPhysicalNormalToContinuousIndex', 'TransformPhysicalPlaneToContinuousIndex', 'TransformPhysicalPointToContinuousIndex', 'UnRegister', 'UpdateCellGhostArrayCache', 'UpdatePointGhostArrayCache', 'UsesGarbageCollector', 'VERTEX', 'VERTEX_DATA_VECTOR', '__class__', '__delattr__', '__dict__', '__dir__', '__doc__', '__eq__', '__format__', '__ge__', '__getattribute__', '__getstate__', '__gt__', '__hash__', '__init__', '__init_subclass__', '__le__', '__lt__', '__ne__', '__new__', '__reduce__', '__reduce_ex__', '__repr__', '__setattr__', '__sizeof__', '__str__', '__subclasshook__', '__this__', '__vtkname__', 'override']\n"
     ]
    }
   ],
   "source": [
    "print(dir(MBF))"
   ]
  },
  {
   "cell_type": "code",
   "execution_count": 15,
   "metadata": {},
   "outputs": [
    {
     "name": "stdout",
     "output_type": "stream",
     "text": [
      "13317171\n",
      "13631488\n",
      "(0.390625, 0.390625, 2.0)\n"
     ]
    }
   ],
   "source": [
    "print(MBF.GetNumberOfCells())\n",
    "print(MBF.GetNumberOfPoints())\n",
    "print(MBF.GetSpacing())"
   ]
  },
  {
   "cell_type": "code",
   "execution_count": 17,
   "metadata": {},
   "outputs": [],
   "source": [
    "ThresholdFilter = vtk.vtkThreshold()\n",
    "ThresholdFilter.SetInputData(MBF)\n",
    "ThresholdFilter.SetUpperThreshold(0)\n",
    "ThresholdFilter.SetThresholdFunction(vtk.vtkThreshold.THRESHOLD_UPPER)\n",
    "ThresholdFilter.SetInputArrayToProcess(0,0,0,\"vtkDataObject::FIELD_ASSOCIATION_POINTS\",\"ImageScalars\")\n",
    "ThresholdFilter.Update()\n",
    "MBF_Vol = ThresholdFilter.GetOutput()"
   ]
  },
  {
   "cell_type": "code",
   "execution_count": 20,
   "metadata": {},
   "outputs": [],
   "source": [
    "WriteVTUFile(\"/Users/ana/Documents/AnahitaSeresti/03_MBFValidation/07.Test/MBF_Territories_new.vtu\", MBF_Vol)"
   ]
  },
  {
   "cell_type": "code",
   "execution_count": null,
   "metadata": {},
   "outputs": [
    {
     "name": "stdout",
     "output_type": "stream",
     "text": [
      "vtkVoxel (0x7fde7bc3dfd0)\n",
      "  Debug: Off\n",
      "  Modified Time: 917\n",
      "  Reference Count: 2\n",
      "  Registered Events: (none)\n",
      "  Number Of Points: 8\n",
      "  Bounds: \n",
      "    Xmin,Xmax: (-78.8047, -78.4141)\n",
      "    Ymin,Ymax: (-290.305, -289.914)\n",
      "    Zmin,Zmax: (-246.5, -244.5)\n",
      "    Point ids are: 0, 1, 512, 513, 262144, 262145, 262656, 262657  \n",
      "  Merge Tolerance: 0.01\n",
      "  Line:\n",
      "None\n",
      "  Pixel:\n",
      "None\n",
      "\n",
      "\n",
      "['AddObserver', 'BreakOnError', 'CellBoundary', 'Clip', 'ComputeBoundingSphere', 'ComputeCentroid', 'Contour', 'DebugOff', 'DebugOn', 'DeepCopy', 'Derivatives', 'EvaluateLocation', 'EvaluatePosition', 'FastDelete', 'GetAddressAsString', 'GetBounds', 'GetCellDimension', 'GetCellType', 'GetCentroid', 'GetClassName', 'GetCommand', 'GetDebug', 'GetEdge', 'GetEdgeArray', 'GetEdgePoints', 'GetEdgeToAdjacentFaces', 'GetEdgeToAdjacentFacesArray', 'GetFace', 'GetFaceArray', 'GetFacePoints', 'GetFaceToAdjacentFaces', 'GetFaceToAdjacentFacesArray', 'GetFaces', 'GetGlobalWarningDisplay', 'GetIsInMemkind', 'GetLength2', 'GetMTime', 'GetMergeTolerance', 'GetMergeToleranceMaxValue', 'GetMergeToleranceMinValue', 'GetNumberOfEdges', 'GetNumberOfFaces', 'GetNumberOfGenerationsFromBase', 'GetNumberOfGenerationsFromBaseType', 'GetNumberOfPoints', 'GetObjectDescription', 'GetObjectName', 'GetParametricCenter', 'GetParametricCoords', 'GetParametricDistance', 'GetPointId', 'GetPointIds', 'GetPointToIncidentEdges', 'GetPointToIncidentEdgesArray', 'GetPointToIncidentFaces', 'GetPointToIncidentFacesArray', 'GetPointToOneRingPoints', 'GetPointToOneRingPointsArray', 'GetPoints', 'GetReferenceCount', 'GetTriangleCases', 'GetUsingMemkind', 'GlobalWarningDisplayOff', 'GlobalWarningDisplayOn', 'HasObserver', 'Inflate', 'Initialize', 'InitializeObjectBase', 'InterpolateDerivs', 'InterpolateFunctions', 'InterpolationDerivs', 'InterpolationFunctions', 'IntersectWithCell', 'IntersectWithLine', 'InvokeEvent', 'IsA', 'IsExplicitCell', 'IsInsideOut', 'IsLinear', 'IsPrimaryCell', 'IsTypeOf', 'Modified', 'NewInstance', 'Register', 'RemoveAllObservers', 'RemoveObserver', 'RemoveObservers', 'RequiresExplicitFaceRepresentation', 'RequiresInitialization', 'SafeDownCast', 'SetDebug', 'SetFaces', 'SetGlobalWarningDisplay', 'SetMemkindDirectory', 'SetMergeTolerance', 'SetObjectName', 'SetReferenceCount', 'ShallowCopy', 'Triangulate', 'UnRegister', 'UsesGarbageCollector', '__class__', '__delattr__', '__dict__', '__dir__', '__doc__', '__eq__', '__format__', '__ge__', '__getattribute__', '__getstate__', '__gt__', '__hash__', '__init__', '__init_subclass__', '__le__', '__lt__', '__ne__', '__new__', '__reduce__', '__reduce_ex__', '__repr__', '__setattr__', '__sizeof__', '__str__', '__subclasshook__', '__this__', '__vtkname__', 'override']\n",
      "['AddObserver', 'Allocate', 'BreakOnError', 'ComputeBounds', 'DebugOff', 'DebugOn', 'DeepCopy', 'FastDelete', 'GetActualMemorySize', 'GetAddressAsString', 'GetBounds', 'GetClassName', 'GetCommand', 'GetData', 'GetDataType', 'GetDebug', 'GetGlobalWarningDisplay', 'GetIsInMemkind', 'GetMTime', 'GetNumberOfGenerationsFromBase', 'GetNumberOfGenerationsFromBaseType', 'GetNumberOfPoints', 'GetObjectDescription', 'GetObjectName', 'GetPoint', 'GetPoints', 'GetReferenceCount', 'GetUsingMemkind', 'GetVoidPointer', 'GlobalWarningDisplayOff', 'GlobalWarningDisplayOn', 'HasObserver', 'Initialize', 'InitializeObjectBase', 'InsertNextPoint', 'InsertPoint', 'InsertPoints', 'InvokeEvent', 'IsA', 'IsTypeOf', 'Modified', 'NewInstance', 'Register', 'RemoveAllObservers', 'RemoveObserver', 'RemoveObservers', 'Reset', 'Resize', 'SafeDownCast', 'SetData', 'SetDataType', 'SetDataTypeToBit', 'SetDataTypeToChar', 'SetDataTypeToDouble', 'SetDataTypeToFloat', 'SetDataTypeToInt', 'SetDataTypeToLong', 'SetDataTypeToShort', 'SetDataTypeToUnsignedChar', 'SetDataTypeToUnsignedInt', 'SetDataTypeToUnsignedLong', 'SetDataTypeToUnsignedShort', 'SetDebug', 'SetGlobalWarningDisplay', 'SetMemkindDirectory', 'SetNumberOfPoints', 'SetObjectName', 'SetPoint', 'SetReferenceCount', 'ShallowCopy', 'Squeeze', 'UnRegister', 'UsesGarbageCollector', '__class__', '__delattr__', '__dict__', '__dir__', '__doc__', '__eq__', '__format__', '__ge__', '__getattribute__', '__getstate__', '__gt__', '__hash__', '__init__', '__init_subclass__', '__le__', '__lt__', '__ne__', '__new__', '__reduce__', '__reduce_ex__', '__repr__', '__setattr__', '__sizeof__', '__str__', '__subclasshook__', '__this__', '__vtkname__', 'override']\n",
      "vtkIdList (0x7fde7bcf2ac0)\n",
      "  Debug: Off\n",
      "  Modified Time: 927\n",
      "  Reference Count: 2\n",
      "  Registered Events: (none)\n",
      "  Number of Ids: 8\n",
      "\n",
      "\n"
     ]
    }
   ],
   "source": [
    "NCells = MBF.GetNumberOfCells()\n",
    "print(MBF.GetCell(0))\n",
    "print(dir(MBF.GetCell(0)))\n",
    "print(dir(MBF.GetCell(0).GetPoints()))\n",
    "print(MBF.GetCell(0).GetPointIds())\n",
    "\n",
    "#print(MBF.GetCell(0).GetPoints().GetPointData().GetArray(\"ImageScalars\"))"
   ]
  },
  {
   "cell_type": "code",
   "execution_count": 37,
   "metadata": {},
   "outputs": [
    {
     "name": "stdout",
     "output_type": "stream",
     "text": [
      "0 :  152\n",
      "1 :  152\n",
      "2 :  152\n",
      "3 :  154\n",
      "4 :  112\n",
      "5 :  114\n",
      "6 :  113\n",
      "7 :  114\n"
     ]
    }
   ],
   "source": [
    "ImageScalars = MBF_Vol.GetPointData().GetArray(\"ImageScalars\")\n",
    "voxel_ = MBF_Vol.GetCell(0)\n",
    "id_list = voxel_.GetPointIds()\n",
    "\n",
    "for i in range(id_list.GetNumberOfIds()):\n",
    "    id_ = id_list.GetId(i)\n",
    "    mbf_at_point = ImageScalars.GetValue(id_)\n",
    "    print(id_,\": \", mbf_at_point)"
   ]
  },
  {
   "cell_type": "code",
   "execution_count": 49,
   "metadata": {},
   "outputs": [
    {
     "name": "stdout",
     "output_type": "stream",
     "text": [
      "0.30517578125\n"
     ]
    }
   ],
   "source": [
    "cbounds = MBF_Vol.GetCell(0).GetBounds()\n",
    "#print(MBF_Vol.GetCell(0))\n",
    "#print(cbounds[0])\n",
    "cvolume = abs(cbounds[0] - cbounds[1]) * abs(cbounds[2] - cbounds[3]) * abs(cbounds[4] - cbounds[5])\n",
    "print(cvolume)"
   ]
  },
  {
   "cell_type": "code",
   "execution_count": 51,
   "metadata": {},
   "outputs": [
    {
     "name": "stdout",
     "output_type": "stream",
     "text": [
      "40.55023193359375\n"
     ]
    }
   ],
   "source": [
    "ImageScalars = MBF_Vol.GetPointData().GetArray(\"ImageScalars\")\n",
    "voxel_ = MBF_Vol.GetCell(0)\n",
    "id_list = voxel_.GetPointIds()\n",
    "cell_bounds = voxel_.GetBounds()\n",
    "cell_volume = abs(cell_bounds[0] - cell_bounds[1]) * abs(cell_bounds[2] - cell_bounds[3]) * abs(cell_bounds[4] - cell_bounds[5])\n",
    "\n",
    "average_cell_mbf = 0\n",
    "for i in range(id_list.GetNumberOfIds()):\n",
    "    id_ = id_list.GetId(i)\n",
    "    mbf_at_point = ImageScalars.GetValue(id_)\n",
    "    average_cell_mbf += mbf_at_point\n",
    "\n",
    "cell_flow = average_cell_mbf/id_list.GetNumberOfIds()*cell_volume\n",
    "print(cell_flow)"
   ]
  },
  {
   "cell_type": "code",
   "execution_count": 53,
   "metadata": {},
   "outputs": [
    {
     "name": "stdout",
     "output_type": "stream",
     "text": [
      "127.64187860431994\n"
     ]
    }
   ],
   "source": [
    "NCells = MBF_Vol.GetNumberOfCells()\n",
    "Flow = 0\n",
    "for n in range(NCells):\n",
    "    voxel_ = MBF_Vol.GetCell(n)\n",
    "    id_list = voxel_.GetPointIds()\n",
    "    cell_bounds = voxel_.GetBounds()\n",
    "    cell_volume = abs(cell_bounds[0] - cell_bounds[1]) * abs(cell_bounds[2] - cell_bounds[3]) * abs(cell_bounds[4] - cell_bounds[5])\n",
    "\n",
    "    average_cell_mbf = 0\n",
    "    for i in range(id_list.GetNumberOfIds()):\n",
    "        id_ = id_list.GetId(i)\n",
    "        mbf_at_point = ImageScalars.GetValue(id_)\n",
    "        average_cell_mbf += mbf_at_point\n",
    "\n",
    "    cell_flow = average_cell_mbf/id_list.GetNumberOfIds()*cell_volume\n",
    "    Flow += cell_flow/1000\n",
    "print(Flow/100)"
   ]
  }
 ],
 "metadata": {
  "kernelspec": {
   "display_name": "vtkfenics",
   "language": "python",
   "name": "python3"
  },
  "language_info": {
   "codemirror_mode": {
    "name": "ipython",
    "version": 3
   },
   "file_extension": ".py",
   "mimetype": "text/x-python",
   "name": "python",
   "nbconvert_exporter": "python",
   "pygments_lexer": "ipython3",
   "version": "3.11.4"
  }
 },
 "nbformat": 4,
 "nbformat_minor": 2
}
