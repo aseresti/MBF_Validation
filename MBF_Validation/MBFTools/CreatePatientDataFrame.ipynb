{
 "cells": [
  {
   "cell_type": "markdown",
   "metadata": {},
   "source": [
    "\n",
    "class PtientBasedMBFVariability():\n",
    "    def __init__(self, args):\n",
    "        self.args = args\n",
    "\n",
    "    def ReadPatientsData(self):\n",
    "        \"\"\"for each patient two files must exist: Patient_n_FFR_s_MBF_Territories.vtu\n",
    "        and Patient_n_FFR_s_MBF_Territory_Labels.dat, first containing the MBF values\n",
    "        and territory assignments, and the latter including the name of all territories.\n",
    "        \"\"\"\n",
    "        pass\n",
    "\n",
    "    def ExtractIschemicRegions(self, MBF):\n",
    "        pass\n",
    "\n",
    "    def CreatePatientsDataFrame(self):\n",
    "        pass\n",
    "\n",
    "    def ViolinPlot(self):\n",
    "        pass"
   ]
  },
  {
   "cell_type": "code",
   "execution_count": 1,
   "metadata": {},
   "outputs": [],
   "source": [
    "import os \n",
    "import vtk\n",
    "import argparse\n",
    "import numpy as np\n",
    "import pandas as pd\n",
    "import seaborn as sns\n",
    "import matplotlib.pyplot as plt\n",
    "from utilities import ReadVTUFile, ThresholdInBetween\n",
    "from vtk.util.numpy_support import vtk_to_numpy"
   ]
  },
  {
   "cell_type": "code",
   "execution_count": null,
   "metadata": {},
   "outputs": [],
   "source": []
  }
 ],
 "metadata": {
  "kernelspec": {
   "display_name": "vtkfenics",
   "language": "python",
   "name": "python3"
  },
  "language_info": {
   "codemirror_mode": {
    "name": "ipython",
    "version": 3
   },
   "file_extension": ".py",
   "mimetype": "text/x-python",
   "name": "python",
   "nbconvert_exporter": "python",
   "pygments_lexer": "ipython3",
   "version": "3.11.4"
  }
 },
 "nbformat": 4,
 "nbformat_minor": 2
}
