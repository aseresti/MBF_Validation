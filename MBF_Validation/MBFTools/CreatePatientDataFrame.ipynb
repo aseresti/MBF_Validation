{
 "cells": [
  {
   "cell_type": "markdown",
   "metadata": {},
   "source": [
    "\n",
    "class PtientBasedMBFVariability():\n",
    "    def __init__(self, args):\n",
    "        self.args = args\n",
    "\n",
    "    def ReadPatientsData(self):\n",
    "        \"\"\"for each patient two files must exist: Patient_n_FFR_s_MBF_Territories.vtu\n",
    "        and Patient_n_FFR_s_MBF_Territory_Labels.dat, first containing the MBF values\n",
    "        and territory assignments, and the latter including the name of all territories.\n",
    "        \"\"\"\n",
    "        pass\n",
    "\n",
    "    def ExtractIschemicRegions(self, MBF):\n",
    "        pass\n",
    "\n",
    "    def CreatePatientsDataFrame(self):\n",
    "        pass\n",
    "\n",
    "    def ViolinPlot(self):\n",
    "        pass"
   ]
  },
  {
   "cell_type": "markdown",
   "metadata": {},
   "source": [
    "# pipeline:\n",
    "\n",
    " - Extract Ischemic/NonIschemic Regions per patients\n",
    " - Calculate Flow per regions\n",
    " - Create a dataframe containing the following:\n",
    "    - patient_id\n",
    "    - Vessel_id\n",
    "    - territory_id\n",
    "    - voxel_id\n",
    "    - Absolute MBF\n",
    "    - Index MBF\n",
    "    - Voxel Flow\n",
    "    - Voxel relative Flow (from Index MBF)\n",
    "    - total territory flow\n",
    "    - FFR\n",
    "    - Stenosis Severity\n",
    "    - is_stenosed (bool)\n",
    " - Create a violin plot of the MBF distribution for severity of 3 and 4\n",
    " - Create a histogram plot of the flow based on the severity of the stenosis"
   ]
  },
  {
   "cell_type": "code",
   "execution_count": null,
   "metadata": {},
   "outputs": [],
   "source": [
    "import os \n",
    "import vtk\n",
    "import argparse\n",
    "import numpy as np\n",
    "import pandas as pd\n",
    "import seaborn as sns\n",
    "import matplotlib.pyplot as plt\n",
    "from utilities import ReadVTUFile\n",
    "from vtk.util.numpy_support import vtk_to_numpy"
   ]
  },
  {
   "cell_type": "code",
   "execution_count": 50,
   "metadata": {},
   "outputs": [],
   "source": [
    "def ThresholdInBetween(Volume,arrayname,value1,value2):\n",
    "    Threshold=vtk.vtkThreshold()\n",
    "    Threshold.SetInputData(Volume)\n",
    "    #Threshold.ThresholdBetween(value1,value2)\n",
    "    Threshold.SetLowerThreshold(value1)\n",
    "    Threshold.SetUpperThreshold(value2)\n",
    "    #Threshold.SetThresholdFunction(ThresholdInBetween)\n",
    "    Threshold.SetInputArrayToProcess(0,0,0,vtk.vtkDataObject.FIELD_ASSOCIATION_CELLS,arrayname)\n",
    "    Threshold.Update()\n",
    "    return Threshold.GetOutput()"
   ]
  },
  {
   "cell_type": "code",
   "execution_count": 26,
   "metadata": {},
   "outputs": [],
   "source": [
    "def ReadIschemicLabels(InputLabels):\n",
    "    Ischemic_Labels = {\"post_LAD\": [], \"post_LCx\":[], \"post_PL\":[], \"NonIschemic\": []}\n",
    "    keys = list(Ischemic_Labels.keys())[:-1]\n",
    "    with open(InputLabels, \"r\") as ifile:\n",
    "        for i, LINE in enumerate(ifile):\n",
    "            if i == 0: continue\n",
    "            line = LINE.split()\n",
    "            if line[1].find(keys[0])>=0: Ischemic_Labels[keys[0]].append(int(line[0]))\n",
    "            elif line[1].find(keys[1])>=0: Ischemic_Labels[keys[1]].append(int(line[0]))\n",
    "            elif line[1].find(keys[2])>=0: Ischemic_Labels[keys[2]].append(int(line[0]))\n",
    "            else: Ischemic_Labels[\"NonIschemic\"].append(int(line[0]))\n",
    "\n",
    "\n",
    "    Ischemic_Labels = {k:v for k, v in Ischemic_Labels.items() if len(v)>0}\n",
    "    \n",
    "    return Ischemic_Labels\n"
   ]
  },
  {
   "cell_type": "code",
   "execution_count": null,
   "metadata": {},
   "outputs": [],
   "source": [
    "from NormalizeMBFMap import MBFNormalization\n",
    "\n",
    "args = argparse.Namespace()\n",
    "args.InputFolder = \"\"\n",
    "args.InputMBFMap = \"\"\n",
    "args.InputLabel = \"\"\n",
    "args.ArrayName = \"ImageScalars\"\n",
    "args.TerritoryTag = \"\"\n",
    "\n",
    "MBFNormalization(args).Normalize()"
   ]
  },
  {
   "cell_type": "code",
   "execution_count": null,
   "metadata": {},
   "outputs": [],
   "source": [
    "Unit = \"mm\"\n",
    "def CalculateCellDataFlow(Territory, ArrayName):\n",
    "    CellData = Territory.GetCellData()\n",
    "    ImageScalars = vtk_to_numpy(CellData.GetArray(ArrayName))\n",
    "    NCells = Territory.GetNumberOfCells()\n",
    "    TerritoryVolume = 0\n",
    "    TerritoryFlow = []\n",
    "    for i in range(NCells):\n",
    "        cell = Territory.GetCell(i)\n",
    "        cell_bounds = cell.GetBounds()\n",
    "        cell_volume = abs(cell_bounds[0] - cell_bounds[1]) * abs(cell_bounds[2] - cell_bounds[3]) * abs(cell_bounds[4] - cell_bounds[5])\n",
    "        TerritoryFlow.append(ImageScalars[i]*cell_volume)\n",
    "        TerritoryVolume += cell_volume\n",
    "\n",
    "    if Unit == 'mm':\n",
    "        return np.array(TerritoryFlow)/1000/100, TerritoryVolume/1000, NCells\n",
    "    elif Unit == 'cm':\n",
    "        return np.array(TerritoryFlow)/100, TerritoryVolume, NCells\n",
    "\n"
   ]
  },
  {
   "cell_type": "code",
   "execution_count": 41,
   "metadata": {},
   "outputs": [],
   "source": [
    "def ConvertPointDataToCellData(pointdata):\n",
    "    PointToCell = vtk.vtkPointDataToCellData()\n",
    "    PointToCell.SetInputData(pointdata)\n",
    "    PointToCell.Update()\n",
    "\n",
    "    return PointToCell.GetOutput()"
   ]
  },
  {
   "cell_type": "code",
   "execution_count": 52,
   "metadata": {},
   "outputs": [
    {
     "name": "stdout",
     "output_type": "stream",
     "text": [
      "[153.25  153.875 154.5   ...  92.25   91.5    91.   ]\n",
      "ImageScalars\n",
      "[153.25  153.875 154.5   ...  64.25   68.25   64.375]\n"
     ]
    },
    {
     "data": {
      "text/plain": [
       "{'post_LAD': [1, 2, 3, 4],\n",
       " 'post_LCx': [8],\n",
       " 'post_PL': [9, 10, 11],\n",
       " 'NonIschemic': [0, 5, 6, 7]}"
      ]
     },
     "execution_count": 52,
     "metadata": {},
     "output_type": "execute_result"
    }
   ],
   "source": [
    "testMBF = \"/Users/ana/Documents/AnahitaSeresti/03_MBFValidation/06.MBF_Analysis_Level3/Patient_03/MBF_Territories.vtu\"\n",
    "testLabels = \"/Users/ana/Documents/AnahitaSeresti/03_MBFValidation/06.MBF_Analysis_Level3/Patient_03/MBF_Territories_Labels.dat\"\n",
    "\n",
    "MBFMap = ReadVTUFile(testMBF)\n",
    "#print(MBFMap.GetPointData().GetArrayName(1))\n",
    "#print(vtk_to_numpy(MBFMap.GetPointData().GetArray(\"ImageScalars\")))\n",
    "MBFMap_CellData = ConvertPointDataToCellData(MBFMap)\n",
    "print(vtk_to_numpy(MBFMap_CellData.GetCellData().GetArray(0)))\n",
    "territory_ = ThresholdInBetween(MBFMap_CellData, \"TerritoryMaps\", 1, 1)\n",
    "#territory_cellData = ConvertPointDataToCellData(territory_)\n",
    "print(territory_.GetCellData().GetArrayName(0))\n",
    "print(vtk_to_numpy(territory_.GetCellData().GetArray(0)))\n",
    "\n",
    "\n",
    "Ischemic_Labels = ReadIschemicLabels(testLabels)\n",
    "Ischemic_Labels\n"
   ]
  },
  {
   "cell_type": "code",
   "execution_count": 57,
   "metadata": {},
   "outputs": [
    {
     "name": "stdout",
     "output_type": "stream",
     "text": [
      "45.8457233534989\n",
      "0.25220065099635397\n",
      "16.74818253580926\n",
      "30.917719129647192\n",
      "19.38091500423322\n",
      "18.387819399243337\n",
      "21.74493810386816\n",
      "7.977373578433413\n",
      "4.708532559078902\n",
      "12.84626652311941\n",
      "1.4755917443444377\n",
      "4.752353259132402\n"
     ]
    },
    {
     "data": {
      "text/plain": [
       "{'post_LAD': 80.11091400382477,\n",
       " 'post_LCx': 22.190335897350526,\n",
       " 'post_PL': 52.36001754071448,\n",
       " 'NonIschemic': 21.372264856816773}"
      ]
     },
     "execution_count": 57,
     "metadata": {},
     "output_type": "execute_result"
    }
   ],
   "source": [
    "\n",
    "Flow = {k:0 for k in Ischemic_Labels.keys()}\n",
    "for (key, value) in Ischemic_Labels.items():\n",
    "    flow_territory = 0\n",
    "    for t_id in value:\n",
    "        territory_ = ThresholdInBetween(MBFMap_CellData, \"TerritoryMaps\", t_id, t_id)\n",
    "        flow_, volume, _ = CalculateCellDataFlow(territory_, \"ImageScalars\")\n",
    "        print(volume)\n",
    "        flow_territory += np.sum(flow_)\n",
    "    Flow[key] = flow_territory\n",
    "\n",
    "Flow"
   ]
  },
  {
   "cell_type": "code",
   "execution_count": null,
   "metadata": {},
   "outputs": [],
   "source": [
    "import glob\n",
    "def ReadPatientFiles(InputFolder):\n",
    "    InputFileNames = glob.glob(InputFolder)"
   ]
  }
 ],
 "metadata": {
  "kernelspec": {
   "display_name": "vtkfenics",
   "language": "python",
   "name": "python3"
  },
  "language_info": {
   "codemirror_mode": {
    "name": "ipython",
    "version": 3
   },
   "file_extension": ".py",
   "mimetype": "text/x-python",
   "name": "python",
   "nbconvert_exporter": "python",
   "pygments_lexer": "ipython3",
   "version": "3.11.4"
  }
 },
 "nbformat": 4,
 "nbformat_minor": 2
}
